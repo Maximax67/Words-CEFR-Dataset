{
 "cells": [
  {
   "cell_type": "markdown",
   "metadata": {},
   "source": [
    "# Minify DB"
   ]
  },
  {
   "cell_type": "code",
   "execution_count": 1,
   "metadata": {},
   "outputs": [],
   "source": [
    "import sqlite3"
   ]
  },
  {
   "cell_type": "code",
   "execution_count": 2,
   "metadata": {},
   "outputs": [],
   "source": [
    "# CHANGE TO_MINIFY_DATABASE_FILENAME to a copy of a stage database. This database will be modified!\n",
    "TO_MINIFY_DATABASE_FILENAME = 'word_cefr_stage_to_minify.db'\n",
    "OUTPUT_DATABASE_FILENAME = 'word_cefr_minified.db'"
   ]
  },
  {
   "cell_type": "code",
   "execution_count": 3,
   "metadata": {},
   "outputs": [],
   "source": [
    "def create_tables(cursor: sqlite3.Cursor, conn: sqlite3.Connection):\n",
    "    cursor.execute('''\n",
    "    CREATE TABLE IF NOT EXISTS words (\n",
    "        word_id INTEGER PRIMARY KEY AUTOINCREMENT,\n",
    "        word VARCHAR(25) UNIQUE NOT NULL,\n",
    "        stem_word_id INTEGER,\n",
    "\n",
    "        FOREIGN KEY (stem_word_id) REFERENCES words (word_id)\n",
    "    )\n",
    "    ''')\n",
    "\n",
    "    cursor.execute('''\n",
    "    CREATE INDEX IF NOT EXISTS idx_word ON words (word)\n",
    "    ''')\n",
    "\n",
    "    cursor.execute('''\n",
    "        CREATE TABLE IF NOT EXISTS pos_tags (\n",
    "            tag_id INTEGER PRIMARY KEY AUTOINCREMENT,\n",
    "            tag VARCHAR(4) UNIQUE NOT NULL,\n",
    "            description VARCHAR(40) NOT NULL\n",
    "        )\n",
    "    ''')\n",
    "\n",
    "    cursor.execute('''\n",
    "    CREATE INDEX IF NOT EXISTS idx_pos_tag ON pos_tags (tag)\n",
    "    ''')\n",
    "\n",
    "    cursor.execute('''\n",
    "    CREATE TABLE IF NOT EXISTS word_pos (\n",
    "        word_pos_id INTEGER PRIMARY KEY AUTOINCREMENT,\n",
    "        word_id INTEGER NOT NULL,\n",
    "        pos_tag_id INTEGER NOT NULL,\n",
    "        lemma_word_id INTEGER,\n",
    "        frequency_count INTEGER NOT NULL,\n",
    "        level REAL NOT NULL,\n",
    "\n",
    "        UNIQUE (word_id, pos_tag_id),\n",
    "        FOREIGN KEY (word_id) REFERENCES words(word_id),\n",
    "        FOREIGN KEY (pos_tag_id) REFERENCES pos_tags(tag_id),\n",
    "        FOREIGN KEY (lemma_word_id) REFERENCES words(word_id)\n",
    "    )\n",
    "    ''')\n",
    "\n",
    "    cursor.execute('''\n",
    "    CREATE INDEX IF NOT EXISTS idx_word_pos_lemma ON word_pos (lemma_word_id)\n",
    "    ''')\n",
    "\n",
    "    cursor.execute('''\n",
    "    CREATE TABLE IF NOT EXISTS categories (\n",
    "        category_id INTEGER PRIMARY KEY AUTOINCREMENT,\n",
    "        category_title VARCHAR(255) NOT NULL\n",
    "    )\n",
    "    ''')\n",
    "\n",
    "    cursor.execute('''\n",
    "    CREATE TABLE IF NOT EXISTS word_categories (\n",
    "        word_pos_id INTEGER NOT NULL,\n",
    "        category_id INTEGER NOT NULL,\n",
    "\n",
    "        UNIQUE (word_pos_id, category_id),\n",
    "        FOREIGN KEY (word_pos_id) REFERENCES word_pos(word_pos_id),\n",
    "        FOREIGN KEY (category_id) REFERENCES categories(category_id)\n",
    "    )\n",
    "    ''')\n",
    "\n",
    "    cursor.execute('''\n",
    "    CREATE INDEX IF NOT EXISTS idx_word_categories_word_pos_id ON word_categories (word_pos_id)\n",
    "    ''')\n",
    "\n",
    "    conn.commit()"
   ]
  },
  {
   "cell_type": "code",
   "execution_count": 4,
   "metadata": {},
   "outputs": [],
   "source": [
    "conn = sqlite3.connect(TO_MINIFY_DATABASE_FILENAME)\n",
    "cursor = conn.cursor()"
   ]
  },
  {
   "cell_type": "code",
   "execution_count": 5,
   "metadata": {},
   "outputs": [],
   "source": [
    "cursor.execute('''\n",
    "    ALTER TABLE word_pos\n",
    "    ADD COLUMN frequency_count INTEGER\n",
    "''')\n",
    "\n",
    "cursor.execute('''\n",
    "    ALTER TABLE word_pos\n",
    "    ADD COLUMN level REAL\n",
    "''')\n",
    "\n",
    "conn.commit()"
   ]
  },
  {
   "cell_type": "code",
   "execution_count": 6,
   "metadata": {},
   "outputs": [],
   "source": [
    "cursor.execute('''\n",
    "    UPDATE word_pos\n",
    "    SET frequency_count = COALESCE(\n",
    "        (SELECT SUM(frequency) FROM year_frequency WHERE year_frequency.word_pos_id = word_pos.word_pos_id),\n",
    "        10000\n",
    "    )\n",
    "''')\n",
    "\n",
    "cursor.execute('''\n",
    "    UPDATE word_pos\n",
    "    SET level = (\n",
    "        SELECT AVG(level)\n",
    "        FROM word_pos_levels\n",
    "        WHERE word_pos_levels.word_pos_id = word_pos.word_pos_id\n",
    "    )\n",
    "''')\n",
    "\n",
    "conn.commit()"
   ]
  },
  {
   "cell_type": "code",
   "execution_count": 7,
   "metadata": {},
   "outputs": [],
   "source": [
    "conn_main = sqlite3.connect(OUTPUT_DATABASE_FILENAME)\n",
    "cursor_main = conn_main.cursor()\n",
    "\n",
    "create_tables(cursor_main, conn_main)\n",
    "conn_main.commit()"
   ]
  },
  {
   "cell_type": "code",
   "execution_count": 8,
   "metadata": {},
   "outputs": [],
   "source": [
    "cursor_main.execute('ATTACH DATABASE ? AS source_db', (TO_MINIFY_DATABASE_FILENAME,))\n",
    "\n",
    "cursor_main.execute('INSERT INTO main.words SELECT * FROM source_db.words')\n",
    "cursor_main.execute('INSERT INTO main.pos_tags SELECT * FROM source_db.pos_tags')\n",
    "cursor_main.execute('INSERT INTO main.word_pos SELECT * FROM source_db.word_pos')\n",
    "cursor_main.execute('INSERT INTO main.categories SELECT * FROM source_db.categories')\n",
    "cursor_main.execute('INSERT INTO main.word_categories SELECT * FROM source_db.word_categories')\n",
    "\n",
    "conn_main.commit()\n",
    "\n",
    "cursor_main.execute('DETACH DATABASE source_db')\n",
    "conn_main.commit()"
   ]
  },
  {
   "cell_type": "code",
   "execution_count": null,
   "metadata": {},
   "outputs": [],
   "source": [
    "conn.close()\n",
    "conn_main.close()"
   ]
  }
 ],
 "metadata": {
  "kernelspec": {
   "display_name": "Python 3",
   "language": "python",
   "name": "python3"
  },
  "language_info": {
   "codemirror_mode": {
    "name": "ipython",
    "version": 3
   },
   "file_extension": ".py",
   "mimetype": "text/x-python",
   "name": "python",
   "nbconvert_exporter": "python",
   "pygments_lexer": "ipython3",
   "version": "3.10.6"
  }
 },
 "nbformat": 4,
 "nbformat_minor": 2
}
